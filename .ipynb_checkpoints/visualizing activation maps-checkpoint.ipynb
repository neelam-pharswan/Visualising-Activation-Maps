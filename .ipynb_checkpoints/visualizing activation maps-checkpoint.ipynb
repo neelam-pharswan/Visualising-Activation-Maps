{
 "cells": [
  {
   "cell_type": "code",
   "execution_count": null,
   "id": "dd271981-c699-4ff7-b8a2-43eb6add1ec8",
   "metadata": {},
   "outputs": [],
   "source": [
    "import tensorflow as tf\n",
    "from tensorflow.keras.layers import Conv2D, MaxPooling2D, Flatten, Dense, Input\n",
    "from tensorflow.keras.models import Model\n",
    "from tensorflow.keras.utils import to_categorical\n",
    "from tensorflow.keras.datasets import mnist\n",
    "import numpy as np\n",
    "import matplotlib.pyplot as plt"
   ]
  },
  {
   "cell_type": "code",
   "execution_count": null,
   "id": "d7929f66-e475-43e0-919d-964ceb3beb25",
   "metadata": {},
   "outputs": [],
   "source": [
    "def load_data():\n",
    "    (x_train, y_train), (x_test, y_test) = mnist.load_data()  # Replace MNIST with emotion dataset later\n",
    "    x_train = x_train[..., np.newaxis] / 255.0  # Normalize and add channel dimension\n",
    "    x_test = x_test[..., np.newaxis] / 255.0\n",
    "    y_train = to_categorical(y_train, 10)  # One-hot encode labels\n",
    "    y_test = to_categorical(y_test, 10)\n",
    "    return (x_train, y_train), (x_test, y_test)"
   ]
  },
  {
   "cell_type": "code",
   "execution_count": null,
   "id": "66b616ed-5094-4ca8-a6f0-baf1fb4fd44f",
   "metadata": {},
   "outputs": [],
   "source": [
    "def build_model(input_shape):\n",
    "    inputs = Input(shape=input_shape)\n",
    "    x = Conv2D(32, (3, 3), activation=\"relu\", name=\"conv_layer1\")(inputs)\n",
    "    x = MaxPooling2D((2, 2), name=\"max_pool1\")(x)\n",
    "    x = Conv2D(64, (3, 3), activation=\"relu\", name=\"conv_layer2\")(x)\n",
    "    x = MaxPooling2D((2, 2), name=\"max_pool2\")(x)\n",
    "    x = Flatten(name=\"flatten\")(x)\n",
    "    outputs = Dense(10, activation=\"softmax\", name=\"output\")(x)\n",
    "    model = Model(inputs=inputs, outputs=outputs)\n",
    "    model.compile(optimizer=\"adam\", loss=\"categorical_crossentropy\", metrics=[\"accuracy\"])\n",
    "    return model\n"
   ]
  },
  {
   "cell_type": "code",
   "execution_count": null,
   "id": "c44b0abc-c3c5-4e63-a257-d45631a940da",
   "metadata": {},
   "outputs": [],
   "source": [
    "def visualize_activation_maps(model, image):\n",
    "    layer_outputs = [layer.output for layer in model.layers if \"conv\" in layer.name]\n",
    "    activation_model = Model(inputs=model.input, outputs=layer_outputs)\n",
    "    \n",
    "    activations = activation_model.predict(image[np.newaxis, ...])\n",
    "    \n",
    "    for i, activation in enumerate(activations):\n",
    "        num_filters = activation.shape[-1]\n",
    "        size = activation.shape[1]\n",
    "        display_grid = np.zeros((size, size * num_filters))\n",
    "        \n",
    "        for j in range(num_filters):\n",
    "            activation_image = activation[0, :, :, j]\n",
    "            activation_image -= activation_image.mean()\n",
    "            activation_image /= activation_image.std() + 1e-5\n",
    "            activation_image = np.clip(activation_image, 0, 1)\n",
    "            display_grid[:, j * size: (j + 1) * size] = activation_image\n",
    "        \n",
    "        plt.figure(figsize=(20, 20))\n",
    "        plt.title(f\"Activation Map for Layer {model.layers[i + 1].name}\")\n",
    "        plt.imshow(display_grid, aspect=\"auto\", cmap=\"viridis\")\n",
    "        plt.axis(\"off\")\n",
    "        plt.show()\n"
   ]
  },
  {
   "cell_type": "code",
   "execution_count": null,
   "id": "7e4e9d5e-84b3-492b-81a9-f085a736ed33",
   "metadata": {},
   "outputs": [],
   "source": [
    "(x_train, y_train), (x_test, y_test) = load_data()\n",
    "model = build_model((28, 28, 1))\n",
    "\n",
    "model.fit(x_train, y_train, epochs=3, batch_size=64, validation_data=(x_test, y_test))"
   ]
  },
  {
   "cell_type": "code",
   "execution_count": null,
   "id": "2349e385-45dc-4e63-8073-aeafc429174b",
   "metadata": {},
   "outputs": [],
   "source": [
    "test_image = x_test[0]\n",
    "plt.imshow(test_image.squeeze(), cmap=\"gray\")\n",
    "plt.title(\"Test Image\")\n",
    "plt.show()\n"
   ]
  },
  {
   "cell_type": "code",
   "execution_count": null,
   "id": "5d254f70-620a-4b86-9efb-db09d7037e56",
   "metadata": {},
   "outputs": [],
   "source": [
    "visualize_activation_maps(model, test_image)\n"
   ]
  },
  {
   "cell_type": "code",
   "execution_count": null,
   "id": "17f0e1cd-04e4-4d09-bb55-e2287fbc0630",
   "metadata": {},
   "outputs": [],
   "source": []
  }
 ],
 "metadata": {
  "kernelspec": {
   "display_name": "Python 3 (ipykernel)",
   "language": "python",
   "name": "python3"
  },
  "language_info": {
   "codemirror_mode": {
    "name": "ipython",
    "version": 3
   },
   "file_extension": ".py",
   "mimetype": "text/x-python",
   "name": "python",
   "nbconvert_exporter": "python",
   "pygments_lexer": "ipython3",
   "version": "3.12.4"
  }
 },
 "nbformat": 4,
 "nbformat_minor": 5
}
